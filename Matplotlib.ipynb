{
 "cells": [
  {
   "cell_type": "code",
   "execution_count": 3,
   "id": "caa4041a",
   "metadata": {},
   "outputs": [],
   "source": [
    "import matplotlib as mpl\n",
    "import matplotlib.pyplot as plt"
   ]
  },
  {
   "cell_type": "code",
   "execution_count": 4,
   "id": "de365c6f",
   "metadata": {},
   "outputs": [],
   "source": [
    "# We will use the plt.style directive to choose appropriate \n",
    "# aesthetic styles for our figures\n",
    "plt.style.use('classic')"
   ]
  },
  {
   "cell_type": "code",
   "execution_count": 6,
   "id": "9258cd5c",
   "metadata": {},
   "outputs": [
    {
     "name": "stdout",
     "output_type": "stream",
     "text": [
      "Figure(640x480)\r\n"
     ]
    }
   ],
   "source": [
    "# show() or No show()? How to Display Your Plots\n",
    "# Plotting from a script\n",
    "!python myplot.py"
   ]
  },
  {
   "cell_type": "code",
   "execution_count": null,
   "id": "b30dd26e",
   "metadata": {},
   "outputs": [],
   "source": [
    "# Plotting from an IPython shell"
   ]
  }
 ],
 "metadata": {
  "kernelspec": {
   "display_name": "Python 3 (ipykernel)",
   "language": "python",
   "name": "python3"
  },
  "language_info": {
   "codemirror_mode": {
    "name": "ipython",
    "version": 3
   },
   "file_extension": ".py",
   "mimetype": "text/x-python",
   "name": "python",
   "nbconvert_exporter": "python",
   "pygments_lexer": "ipython3",
   "version": "3.8.8"
  }
 },
 "nbformat": 4,
 "nbformat_minor": 5
}
