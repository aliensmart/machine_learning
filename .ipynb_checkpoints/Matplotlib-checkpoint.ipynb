{
 "cells": [
  {
   "cell_type": "code",
   "execution_count": 3,
   "id": "1937d146",
   "metadata": {},
   "outputs": [],
   "source": [
    "import matplotlib as mpl\n",
    "import matplotlib.pyplot as plt"
   ]
  },
  {
   "cell_type": "code",
   "execution_count": 4,
   "id": "a1b9e7f4",
   "metadata": {},
   "outputs": [],
   "source": [
    "# We will use the plt.style directive to choose appropriate \n",
    "# aesthetic styles for our figures\n",
    "plt.style.use('classic')"
   ]
  },
  {
   "cell_type": "code",
   "execution_count": 6,
   "id": "d8443594",
   "metadata": {},
   "outputs": [
    {
     "name": "stdout",
     "output_type": "stream",
     "text": [
      "Figure(640x480)\r\n"
     ]
    }
   ],
   "source": [
    "# show() or No show()? How to Display Your Plots\n",
    "# Plotting from a script\n",
    "!python myplot.py"
   ]
  },
  {
   "cell_type": "code",
   "execution_count": null,
   "id": "6082cec9",
   "metadata": {},
   "outputs": [],
   "source": [
    "# Plotting from an IPython shell"
   ]
  }
 ],
 "metadata": {
  "kernelspec": {
   "display_name": "Python 3 (ipykernel)",
   "language": "python",
   "name": "python3"
  },
  "language_info": {
   "codemirror_mode": {
    "name": "ipython",
    "version": 3
   },
   "file_extension": ".py",
   "mimetype": "text/x-python",
   "name": "python",
   "nbconvert_exporter": "python",
   "pygments_lexer": "ipython3",
   "version": "3.8.8"
  }
 },
 "nbformat": 4,
 "nbformat_minor": 5
}
