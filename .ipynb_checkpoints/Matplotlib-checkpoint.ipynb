{
 "cells": [
  {
   "cell_type": "code",
   "execution_count": null,
   "id": "9b53b236",
   "metadata": {},
   "outputs": [],
   "source": [
    "Visualization with Matplotlib"
   ]
  }
 ],
 "metadata": {
  "kernelspec": {
   "display_name": "Python 3 (ipykernel)",
   "language": "python",
   "name": "python3"
  }
 },
 "nbformat": 4,
 "nbformat_minor": 5
}
