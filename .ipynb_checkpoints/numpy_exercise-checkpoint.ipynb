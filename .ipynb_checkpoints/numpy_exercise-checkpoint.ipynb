{
 "cells": [
  {
   "cell_type": "code",
   "execution_count": 1,
   "id": "13233d67",
   "metadata": {},
   "outputs": [],
   "source": [
    "# https://www.w3resource.com/python-exercises/numpy/index-array.php#EDITOR\n",
    "import numpy as np"
   ]
  },
  {
   "cell_type": "code",
   "execution_count": 2,
   "id": "1f3b9cd0",
   "metadata": {},
   "outputs": [
    {
     "data": {
      "text/plain": [
       "array([[1, 2, 3, 1, 2, 3, 1, 2, 3, 1, 2, 3, 1, 2, 3, 1, 2, 3, 1, 2, 3],\n",
       "       [4, 5, 6, 4, 5, 6, 4, 5, 6, 4, 5, 6, 4, 5, 6, 4, 5, 6, 4, 5, 6]])"
      ]
     },
     "execution_count": 2,
     "metadata": {},
     "output_type": "execute_result"
    }
   ],
   "source": [
    "# Output an array by repeating a smaller array of 2 dimensions, 10 times\n",
    "x = np.array([[1, 2, 3],\n",
    "             [4, 5, 6]])\n",
    "np.tile(x, 7)"
   ]
  },
  {
   "cell_type": "code",
   "execution_count": 3,
   "id": "de22d971",
   "metadata": {},
   "outputs": [
    {
     "data": {
      "text/plain": [
       "array([[2, 2, 6, 1, 3],\n",
       "       [9, 6, 1, 0, 1],\n",
       "       [9, 0, 0, 9, 3],\n",
       "       [4, 0, 0, 4, 1],\n",
       "       [7, 3, 2, 4, 7]])"
      ]
     },
     "execution_count": 3,
     "metadata": {},
     "output_type": "execute_result"
    }
   ],
   "source": [
    "# Output a 5-by-5 array of random integers between 0 (inclusive) and 10 (exclusive)\n",
    "np.random.seed(123) # setting the seed\n",
    "np.random.randint(0, 10, size = (5, 5))"
   ]
  },
  {
   "cell_type": "code",
   "execution_count": 4,
   "id": "c82adff3",
   "metadata": {},
   "outputs": [
    {
     "data": {
      "text/plain": [
       "array([[-1.0856306 ,  0.99734545,  0.2829785 ],\n",
       "       [-1.50629471, -0.57860025,  1.65143654],\n",
       "       [-2.42667924, -0.42891263,  1.26593626]])"
      ]
     },
     "execution_count": 4,
     "metadata": {},
     "output_type": "execute_result"
    }
   ],
   "source": [
    "# Output a 3-by-3 array of random numbers following normal distribution\n",
    "np.random.seed(123) # setting the seed\n",
    "np.random.normal(size = (3,3))"
   ]
  },
  {
   "cell_type": "code",
   "execution_count": 5,
   "id": "6cfa16c7",
   "metadata": {},
   "outputs": [
    {
     "data": {
      "text/plain": [
       "array([[ 36,  42,  48],\n",
       "       [ 81,  96, 111],\n",
       "       [126, 150, 174]])"
      ]
     },
     "execution_count": 5,
     "metadata": {},
     "output_type": "execute_result"
    }
   ],
   "source": [
    "\n",
    "\n",
    "# Given 2 numpy arrays as matrices, output the result of multiplying the 2 matrices (as a numpy array)\n",
    "a = np.array([[1,2,3],\n",
    "              [4,5,6],\n",
    "              [7,8,9]])\n",
    "\n",
    "b = np.array([[2,3,4],\n",
    "              [5,6,7],\n",
    "              [8,9,10]])\n",
    "np.matmul(a, b)"
   ]
  },
  {
   "cell_type": "code",
   "execution_count": 6,
   "id": "f2f5ea96",
   "metadata": {},
   "outputs": [
    {
     "data": {
      "text/plain": [
       "array([[1, 4, 7],\n",
       "       [2, 5, 8],\n",
       "       [3, 6, 9]])"
      ]
     },
     "execution_count": 6,
     "metadata": {},
     "output_type": "execute_result"
    }
   ],
   "source": [
    "# Output the transpose of a matrix (as numpy array)\n",
    "a = np.array([[1,2,3],\n",
    "              [4,5,6],\n",
    "              [7,8,9]])\n",
    "a.T"
   ]
  },
  {
   "cell_type": "code",
   "execution_count": 7,
   "id": "4cafab20",
   "metadata": {},
   "outputs": [
    {
     "data": {
      "text/plain": [
       "True"
      ]
     },
     "execution_count": 7,
     "metadata": {},
     "output_type": "execute_result"
    }
   ],
   "source": [
    "# Write a NumPy program to test whether none of the elements of a given array is zero.a\n",
    "a = np.array([1, 2, 3])\n",
    "b = np.array([[1,2,3],\n",
    "              [4,5,0],\n",
    "              [7,8,9]])\n",
    "np.all(a)\n"
   ]
  },
  {
   "cell_type": "code",
   "execution_count": 8,
   "id": "7bdc0bbc",
   "metadata": {},
   "outputs": [
    {
     "data": {
      "text/plain": [
       "False"
      ]
     },
     "execution_count": 8,
     "metadata": {},
     "output_type": "execute_result"
    }
   ],
   "source": [
    "\n",
    "np.all(b)"
   ]
  },
  {
   "cell_type": "code",
   "execution_count": 9,
   "id": "89cd530c",
   "metadata": {},
   "outputs": [
    {
     "data": {
      "text/plain": [
       "True"
      ]
     },
     "execution_count": 9,
     "metadata": {},
     "output_type": "execute_result"
    }
   ],
   "source": [
    "# Write a NumPy program to test whether any of the elements of a given array is non-zero\n",
    "np.any(a)"
   ]
  },
  {
   "cell_type": "code",
   "execution_count": 10,
   "id": "ceab18f1",
   "metadata": {},
   "outputs": [
    {
     "data": {
      "text/plain": [
       "True"
      ]
     },
     "execution_count": 10,
     "metadata": {},
     "output_type": "execute_result"
    }
   ],
   "source": [
    "np.any(b)"
   ]
  },
  {
   "cell_type": "code",
   "execution_count": 11,
   "id": "5f982f8a",
   "metadata": {},
   "outputs": [
    {
     "data": {
      "text/plain": [
       "array([ True,  True, False, False])"
      ]
     },
     "execution_count": 11,
     "metadata": {},
     "output_type": "execute_result"
    }
   ],
   "source": [
    "# Write a NumPy program to test a given array element-wise \n",
    "# for finiteness (not infinity or not a Number).\n",
    "a = np.array([1, 0, np.nan, np.inf])\n",
    "np.isfinite(a)"
   ]
  },
  {
   "cell_type": "code",
   "execution_count": 12,
   "id": "f0a61e54",
   "metadata": {},
   "outputs": [
    {
     "data": {
      "text/plain": [
       "array([False, False,  True, False])"
      ]
     },
     "execution_count": 12,
     "metadata": {},
     "output_type": "execute_result"
    }
   ],
   "source": [
    "# Write a NumPy program to test element-wise for NaN of a given array.\n",
    "b = np.array([1, 0, np.nan, np.inf])\n",
    "np.isnan(b)"
   ]
  },
  {
   "cell_type": "code",
   "execution_count": 13,
   "id": "86ab3267",
   "metadata": {},
   "outputs": [
    {
     "name": "stdout",
     "output_type": "stream",
     "text": [
      "Original array\n",
      "[1. +1.j 1. +0.j 4.5+0.j 3. +0.j 2. +0.j 0. +2.j]\n",
      "Checking for complex number:\n",
      "[ True False False False False  True]\n",
      "Checking for real number:\n",
      "[False  True  True  True  True False]\n",
      "Checking for scalar type:\n",
      "True\n",
      "False\n"
     ]
    }
   ],
   "source": [
    "a = np.array([1+1j, 1+0j, 4.5, 3, 2, 2j])\n",
    "print(\"Original array\")\n",
    "print(a)\n",
    "print(\"Checking for complex number:\")\n",
    "print(np.iscomplex(a))\n",
    "print(\"Checking for real number:\")\n",
    "print(np.isreal(a))\n",
    "print(\"Checking for scalar type:\")\n",
    "print(np.isscalar(3.1))\n",
    "print(np.isscalar([3.1]))"
   ]
  },
  {
   "cell_type": "code",
   "execution_count": 14,
   "id": "25725e6f",
   "metadata": {},
   "outputs": [
    {
     "name": "stdout",
     "output_type": "stream",
     "text": [
      "[ 12.23  13.32 100.    36.32]\n"
     ]
    }
   ],
   "source": [
    "x = [12.23, 13.32, 100, 36.32]\n",
    "b = np.array(x)\n",
    "print(b)"
   ]
  },
  {
   "cell_type": "code",
   "execution_count": 15,
   "id": "2a95362d",
   "metadata": {},
   "outputs": [],
   "source": [
    "x = np.arange(2, 11)"
   ]
  },
  {
   "cell_type": "code",
   "execution_count": 16,
   "id": "5a6cc786",
   "metadata": {},
   "outputs": [
    {
     "data": {
      "text/plain": [
       "array([ 2,  3,  4,  5,  6,  7,  8,  9, 10])"
      ]
     },
     "execution_count": 16,
     "metadata": {},
     "output_type": "execute_result"
    }
   ],
   "source": [
    "x"
   ]
  },
  {
   "cell_type": "code",
   "execution_count": 17,
   "id": "4da3c3e9",
   "metadata": {},
   "outputs": [
    {
     "data": {
      "text/plain": [
       "array([[ 2,  3,  4],\n",
       "       [ 5,  6,  7],\n",
       "       [ 8,  9, 10]])"
      ]
     },
     "execution_count": 17,
     "metadata": {},
     "output_type": "execute_result"
    }
   ],
   "source": [
    "x.reshape(3, 3)"
   ]
  },
  {
   "cell_type": "code",
   "execution_count": 18,
   "id": "03b24e27",
   "metadata": {},
   "outputs": [
    {
     "data": {
      "text/plain": [
       "array([0., 0., 0., 0., 0., 0., 0., 0., 0., 0.])"
      ]
     },
     "execution_count": 18,
     "metadata": {},
     "output_type": "execute_result"
    }
   ],
   "source": [
    " n = np.zeros(10)\n",
    "n"
   ]
  },
  {
   "cell_type": "code",
   "execution_count": 19,
   "id": "0b093ecb",
   "metadata": {},
   "outputs": [
    {
     "data": {
      "text/plain": [
       "array([ 0.,  0.,  0.,  0.,  0.,  0., 11.,  0.,  0.,  0.])"
      ]
     },
     "execution_count": 19,
     "metadata": {},
     "output_type": "execute_result"
    }
   ],
   "source": [
    "n[6] = 11\n",
    "n"
   ]
  },
  {
   "cell_type": "code",
   "execution_count": 20,
   "id": "dca8904f",
   "metadata": {},
   "outputs": [
    {
     "data": {
      "text/plain": [
       "array([12, 13, 14, 15, 16, 17, 18, 19, 20, 21, 22, 23, 24, 25, 26, 27, 28,\n",
       "       29, 30, 31, 32, 33, 34, 35, 36, 37])"
      ]
     },
     "execution_count": 20,
     "metadata": {},
     "output_type": "execute_result"
    }
   ],
   "source": [
    "r = np.arange(12, 38)\n",
    "r"
   ]
  },
  {
   "cell_type": "code",
   "execution_count": 21,
   "id": "ddb17151",
   "metadata": {},
   "outputs": [],
   "source": [
    "rev = r[::-1]"
   ]
  },
  {
   "cell_type": "code",
   "execution_count": 22,
   "id": "c1837ad1",
   "metadata": {},
   "outputs": [
    {
     "data": {
      "text/plain": [
       "array([37, 36, 35, 34, 33, 32, 31, 30, 29, 28, 27, 26, 25, 24, 23, 22, 21,\n",
       "       20, 19, 18, 17, 16, 15, 14, 13, 12])"
      ]
     },
     "execution_count": 22,
     "metadata": {},
     "output_type": "execute_result"
    }
   ],
   "source": [
    "rev"
   ]
  },
  {
   "cell_type": "code",
   "execution_count": 23,
   "id": "78c272b1",
   "metadata": {},
   "outputs": [
    {
     "data": {
      "text/plain": [
       "array([1., 2., 3., 4.])"
      ]
     },
     "execution_count": 23,
     "metadata": {},
     "output_type": "execute_result"
    }
   ],
   "source": [
    "# Write a NumPy program to convert an array to a float type.\n",
    "x = np.array([1, 2, 3, 4])\n",
    "x.astype('float')"
   ]
  },
  {
   "cell_type": "code",
   "execution_count": 24,
   "id": "ded9f2a1",
   "metadata": {},
   "outputs": [
    {
     "data": {
      "text/plain": [
       "array([[1., 1., 1., 1., 1., 1., 1., 1.],\n",
       "       [1., 1., 1., 1., 1., 1., 1., 1.],\n",
       "       [1., 1., 1., 1., 1., 1., 1., 1.],\n",
       "       [1., 1., 1., 1., 1., 1., 1., 1.],\n",
       "       [1., 1., 1., 1., 1., 1., 1., 1.]])"
      ]
     },
     "execution_count": 24,
     "metadata": {},
     "output_type": "execute_result"
    }
   ],
   "source": [
    "# Write a NumPy program to create a 2d array with 1 on the border and 0 inside.\n",
    "x = np.ones(40).reshape(5, 8)\n",
    "x"
   ]
  },
  {
   "cell_type": "code",
   "execution_count": 25,
   "id": "57714477",
   "metadata": {},
   "outputs": [],
   "source": [
    "x[1:-1, 1:-1] = 0"
   ]
  },
  {
   "cell_type": "code",
   "execution_count": 26,
   "id": "297bf1e8",
   "metadata": {},
   "outputs": [
    {
     "data": {
      "text/plain": [
       "array([[1., 1., 1., 1., 1., 1., 1., 1.],\n",
       "       [1., 0., 0., 0., 0., 0., 0., 1.],\n",
       "       [1., 0., 0., 0., 0., 0., 0., 1.],\n",
       "       [1., 0., 0., 0., 0., 0., 0., 1.],\n",
       "       [1., 1., 1., 1., 1., 1., 1., 1.]])"
      ]
     },
     "execution_count": 26,
     "metadata": {},
     "output_type": "execute_result"
    }
   ],
   "source": [
    "x"
   ]
  },
  {
   "cell_type": "code",
   "execution_count": 27,
   "id": "a0d864fd",
   "metadata": {
    "scrolled": true
   },
   "outputs": [
    {
     "data": {
      "text/plain": [
       "array([[1., 1., 1., 1.],\n",
       "       [1., 1., 1., 1.],\n",
       "       [1., 1., 1., 1.],\n",
       "       [1., 1., 1., 1.]])"
      ]
     },
     "execution_count": 27,
     "metadata": {},
     "output_type": "execute_result"
    }
   ],
   "source": [
    "# Write a NumPy program to add a border (filled with 0's) around an existing array.\n",
    "x = np.ones((4,4))\n",
    "x"
   ]
  },
  {
   "cell_type": "code",
   "execution_count": 28,
   "id": "3ae1c85f",
   "metadata": {},
   "outputs": [
    {
     "data": {
      "text/plain": [
       "array([[0., 0., 0., 0., 0., 0.],\n",
       "       [0., 1., 1., 1., 1., 0.],\n",
       "       [0., 1., 1., 1., 1., 0.],\n",
       "       [0., 1., 1., 1., 1., 0.],\n",
       "       [0., 1., 1., 1., 1., 0.],\n",
       "       [0., 0., 0., 0., 0., 0.]])"
      ]
     },
     "execution_count": 28,
     "metadata": {},
     "output_type": "execute_result"
    }
   ],
   "source": [
    "x = np.pad(x, pad_width=1, mode='constant', constant_values=0)\n",
    "x"
   ]
  },
  {
   "cell_type": "code",
   "execution_count": 29,
   "id": "173b2181",
   "metadata": {},
   "outputs": [
    {
     "data": {
      "text/plain": [
       "array([[0, 1, 0, 1, 0, 1, 0, 1],\n",
       "       [1, 0, 1, 0, 1, 0, 1, 0],\n",
       "       [0, 1, 0, 1, 0, 1, 0, 1],\n",
       "       [1, 0, 1, 0, 1, 0, 1, 0],\n",
       "       [0, 1, 0, 1, 0, 1, 0, 1],\n",
       "       [1, 0, 1, 0, 1, 0, 1, 0],\n",
       "       [0, 1, 0, 1, 0, 1, 0, 1],\n",
       "       [1, 0, 1, 0, 1, 0, 1, 0]])"
      ]
     },
     "execution_count": 29,
     "metadata": {},
     "output_type": "execute_result"
    }
   ],
   "source": [
    "# Write a NumPy program to create a 8x8 matrix and fill it with a checkerboard pattern.\n",
    "x = np.ones((3, 3))\n",
    "x = np.zeros((8,8),dtype=int)\n",
    "x[1::2, ::2] = 1\n",
    "x[::2,1::2] = 1\n",
    "x"
   ]
  },
  {
   "cell_type": "code",
   "execution_count": 30,
   "id": "9487d1b9",
   "metadata": {},
   "outputs": [
    {
     "name": "stdout",
     "output_type": "stream",
     "text": [
      "[[1 2 3]\n",
      " [4 6 8]]\n"
     ]
    }
   ],
   "source": [
    "# Write a NumPy program to convert a list and tuple into arrays.\n",
    "tup = tuple([1, 2, 3, 4, 6, 8])\n",
    "arr = np.array(tup).reshape(2, 3)\n",
    "print(arr)"
   ]
  },
  {
   "cell_type": "code",
   "execution_count": 31,
   "id": "ea969e1d",
   "metadata": {},
   "outputs": [
    {
     "name": "stdout",
     "output_type": "stream",
     "text": [
      "[10 20 30 40 50 60 70 80 90]\n"
     ]
    }
   ],
   "source": [
    "# Write a NumPy program to append values to the end of an array.\n",
    "x = [10, 20, 30]\n",
    "y = [40, 50, 60, 70, 80, 90]\n",
    "print(np.append(x, y))"
   ]
  },
  {
   "cell_type": "code",
   "execution_count": 32,
   "id": "73217dd8",
   "metadata": {},
   "outputs": [
    {
     "name": "stdout",
     "output_type": "stream",
     "text": [
      "[[4.94e-323 9.88e-323 1.48e-322]\n",
      " [1.98e-322 2.47e-322 2.96e-322]\n",
      " [3.46e-322 3.95e-322 4.45e-322]]\n",
      "[[6 6 6]\n",
      " [6 6 6]\n",
      " [6 6 6]]\n"
     ]
    }
   ],
   "source": [
    "# Write a NumPy program to create an empty and a full array.\n",
    "empt = np.empty((3, 3))\n",
    "print(empt)\n",
    "full = np.full((3, 3), 6)\n",
    "print(full)"
   ]
  },
  {
   "cell_type": "code",
   "execution_count": 33,
   "id": "6185cee8",
   "metadata": {},
   "outputs": [
    {
     "data": {
      "text/plain": [
       "array([-17.78, -11.11,   7.34,   1.11,  37.73])"
      ]
     },
     "execution_count": 33,
     "metadata": {},
     "output_type": "execute_result"
    }
   ],
   "source": [
    "# Write a NumPy program to convert the \n",
    "# values of Centigrade degrees into Fahrenheit\n",
    "# degrees and vice versa. Values are stored into a NumPy array. \n",
    "f = np.array([0, 12, 45.21, 34, 99.91])\n",
    "np.round((5*f/9 - 5*32/9), 2)"
   ]
  },
  {
   "cell_type": "code",
   "execution_count": 34,
   "id": "efea2aa0",
   "metadata": {},
   "outputs": [
    {
     "name": "stdout",
     "output_type": "stream",
     "text": [
      "================Imaginary part===========\n",
      "[0.         0.70710678]\n",
      "================Real part===========\n",
      "[1.         0.70710678]\n"
     ]
    }
   ],
   "source": [
    "# Write a NumPy program to find the \n",
    "# real and imaginary parts of an array of complex numbers.\n",
    "print('================Imaginary part===========')\n",
    "print(np.imag([ 1.00000000+0.j, 0.70710678+0.70710678j]))\n",
    "print('================Real part===========')\n",
    "print(np.real([ 1.00000000+0.j, 0.70710678+0.70710678j]))"
   ]
  },
  {
   "cell_type": "code",
   "execution_count": 35,
   "id": "196bfc81",
   "metadata": {},
   "outputs": [
    {
     "data": {
      "text/plain": [
       "array([ True, False, False,  True, False])"
      ]
     },
     "execution_count": 35,
     "metadata": {},
     "output_type": "execute_result"
    }
   ],
   "source": [
    "# Write a NumPy program to test whether each element \n",
    "# of a 1-D array is also present in a second array. \n",
    "array1 = np.array([0, 10, 20, 40, 60])\n",
    "array2 = [0, 40]\n",
    "# np.in1d?? #Test whether each element of a 1-D array is also present in a second array.\n",
    "# Returns a boolean array of the same shape as `element` that is True\n",
    "#     where an element of `element` is in `test_elements` and False otherwise.\n",
    "np.isin(array1, array2)"
   ]
  },
  {
   "cell_type": "code",
   "execution_count": 36,
   "id": "0338e2dd",
   "metadata": {},
   "outputs": [
    {
     "data": {
      "text/plain": [
       "array([10, 40])"
      ]
     },
     "execution_count": 36,
     "metadata": {},
     "output_type": "execute_result"
    }
   ],
   "source": [
    "# Write a NumPy program to find common values between two arrays\n",
    "array1 = np.array([ 0, 10, 20, 40, 60])\n",
    "array2 = np.array([10, 30, 40])\n",
    "# Find the intersection of two arrays.\n",
    "# Return the sorted, unique values that are in both of the input arrays.\n",
    "np.intersect1d(array1, array2)"
   ]
  },
  {
   "cell_type": "code",
   "execution_count": 37,
   "id": "c5137b58",
   "metadata": {},
   "outputs": [
    {
     "data": {
      "text/plain": [
       "array([10, 20, 30])"
      ]
     },
     "execution_count": 37,
     "metadata": {},
     "output_type": "execute_result"
    }
   ],
   "source": [
    "arr1 = np.array([10, 10, 20, 20, 30, 30])\n",
    "np.unique(arr1)"
   ]
  },
  {
   "cell_type": "code",
   "execution_count": 38,
   "id": "252dead9",
   "metadata": {},
   "outputs": [
    {
     "data": {
      "text/plain": [
       "array([ 0, 20, 60])"
      ]
     },
     "execution_count": 38,
     "metadata": {},
     "output_type": "execute_result"
    }
   ],
   "source": [
    "# Write a NumPy program to find the set difference of two arrays. \n",
    "# The set difference will return the sorted,\n",
    "# unique values in array1 that are not in array2\n",
    "array1 = np.array([ 0, 10, 20, 40, 60])\n",
    "array2 = np.array([10, 30, 40])\n",
    "np.setdiff1d(array1, array2)"
   ]
  },
  {
   "cell_type": "code",
   "execution_count": 39,
   "id": "3035a724",
   "metadata": {},
   "outputs": [
    {
     "data": {
      "text/plain": [
       "array([ 0, 10, 20, 30, 40, 60, 70])"
      ]
     },
     "execution_count": 39,
     "metadata": {},
     "output_type": "execute_result"
    }
   ],
   "source": [
    "array1 = np.array([ 0, 10, 20, 40, 60])\n",
    "array2 = np.array([10, 30, 40, 70])\n",
    "np.union1d(array1, array2)"
   ]
  },
  {
   "cell_type": "code",
   "execution_count": 40,
   "id": "376a9165",
   "metadata": {},
   "outputs": [
    {
     "name": "stdout",
     "output_type": "stream",
     "text": [
      "False\n",
      "True\n",
      "False\n",
      "True\n"
     ]
    }
   ],
   "source": [
    "# Write a NumPy program to test whether all elements in an array\n",
    "# evaluate to True.\n",
    "print(np.all([[True,False],[True,True]]))\n",
    "print(np.all([[True,True],[True,True]]))\n",
    "print(np.all([10, 20, 0, -50]))\n",
    "print(np.all([10, 20, -50]))"
   ]
  },
  {
   "cell_type": "code",
   "execution_count": 41,
   "id": "b196a7c9",
   "metadata": {},
   "outputs": [
    {
     "name": "stdout",
     "output_type": "stream",
     "text": [
      "False\n",
      "True\n",
      "True\n",
      "True\n"
     ]
    }
   ],
   "source": [
    "print(np.any([[False,False],[False,False]]))\n",
    "print(np.any([[True,True],[True,True]]))\n",
    "print(np.any([10, 20, 0, -50]))\n",
    "print(np.any([10, 20, -50]))"
   ]
  },
  {
   "cell_type": "code",
   "execution_count": 42,
   "id": "92d0673d",
   "metadata": {},
   "outputs": [
    {
     "data": {
      "text/plain": [
       "array([10, 30, 40, 10, 30, 40, 10, 30, 40])"
      ]
     },
     "execution_count": 42,
     "metadata": {},
     "output_type": "execute_result"
    }
   ],
   "source": [
    "# Write a NumPy program to construct an array by repeating\n",
    "array2 = np.array([10, 30, 40])\n",
    "np.tile(array2, 3)"
   ]
  },
  {
   "cell_type": "code",
   "execution_count": 43,
   "id": "b781d511",
   "metadata": {},
   "outputs": [
    {
     "data": {
      "text/plain": [
       "array([3, 3, 3])"
      ]
     },
     "execution_count": 43,
     "metadata": {},
     "output_type": "execute_result"
    }
   ],
   "source": [
    "# Write a NumPy program to repeat elements of an array\n",
    "np.repeat(3, 3)"
   ]
  },
  {
   "cell_type": "code",
   "execution_count": 44,
   "id": "37d85b0b",
   "metadata": {},
   "outputs": [
    {
     "data": {
      "text/plain": [
       "6"
      ]
     },
     "execution_count": 44,
     "metadata": {},
     "output_type": "execute_result"
    }
   ],
   "source": [
    "# Write a NumPy program to find the indices \n",
    "# of the maximum and minimum values along the given axis of an array.\n",
    "arr = [1, 2, 3, 4, 5, 6]\n",
    "np.max(arr)"
   ]
  },
  {
   "cell_type": "code",
   "execution_count": 45,
   "id": "1818a3cb",
   "metadata": {},
   "outputs": [
    {
     "name": "stdout",
     "output_type": "stream",
     "text": [
      "sort along first axis\n",
      "[[1 2]\n",
      " [3 4]]\n",
      "sort along last axis\n",
      "[[1 4]\n",
      " [2 3]]\n"
     ]
    }
   ],
   "source": [
    "# Write a NumPy program to sort an \n",
    "# along the first, last axis of an array.\n",
    "a = np.array([[1,4],[3,2]])\n",
    "print(\"sort along first axis\")\n",
    "print(np.sort(a, axis=0))\n",
    "print(\"sort along last axis\")\n",
    "print(np.sort(a, axis=-1))"
   ]
  },
  {
   "cell_type": "code",
   "execution_count": 46,
   "id": "c7f9b0ad",
   "metadata": {},
   "outputs": [
    {
     "name": "stdout",
     "output_type": "stream",
     "text": [
      "[1 3 2 4 0]\n"
     ]
    }
   ],
   "source": [
    "#30 Write a NumPy program to sort pairs of first \n",
    "# name and last name return their indices.\n",
    "first_names =('Margery', 'Betsey', 'Shelley', 'Lanell', 'Genesis')\n",
    "last_names = ('Woolum', 'Battle', 'Plotner', 'Brien', 'Stahl')\n",
    "x = np.lexsort((first_names, last_names))\n",
    "print(x)"
   ]
  },
  {
   "cell_type": "code",
   "execution_count": 47,
   "id": "12d8cc48",
   "metadata": {},
   "outputs": [
    {
     "data": {
      "text/plain": [
       "array([False,  True, False,  True, False,  True, False,  True, False,\n",
       "        True])"
      ]
     },
     "execution_count": 47,
     "metadata": {},
     "output_type": "execute_result"
    }
   ],
   "source": [
    "arr = np.array([0, 1, 2, 3, 4, 5, 6, 7, 8, 9])\n",
    "arr2 = arr % 2 !=0\n",
    "arr2"
   ]
  },
  {
   "cell_type": "code",
   "execution_count": 48,
   "id": "96eaf644",
   "metadata": {},
   "outputs": [
    {
     "data": {
      "text/plain": [
       "array([1, 3, 5, 7, 9])"
      ]
     },
     "execution_count": 48,
     "metadata": {},
     "output_type": "execute_result"
    }
   ],
   "source": [
    "arr2 = arr[arr2] # will return wherever we have true as item\n",
    "arr2"
   ]
  },
  {
   "cell_type": "code",
   "execution_count": 49,
   "id": "8a6a5b02",
   "metadata": {},
   "outputs": [
    {
     "data": {
      "text/plain": [
       "(array([0, 1, 1, 1]), array([2, 0, 1, 2]))"
      ]
     },
     "execution_count": 49,
     "metadata": {},
     "output_type": "execute_result"
    }
   ],
   "source": [
    "# 31. Write a NumPy program to get the values and \n",
    "# indices of the elements that are bigger than 10 in a given array.\n",
    "# arr = np.array([[20, 12, 13],\n",
    "#                 [14, 1, 16],\n",
    "#                 [7, 1, 11],\n",
    "#                 [1, 14, 15]])\n",
    "arr = np.array([[ 0, 10, 20],\n",
    "                [20, 30, 40]])\n",
    "arr2 = np.where(arr > 10)\n",
    "arr2"
   ]
  },
  {
   "cell_type": "code",
   "execution_count": 50,
   "id": "0ea5e212",
   "metadata": {},
   "outputs": [],
   "source": [
    "# 32. Write a NumPy program to save a NumPy array to a text file.\n",
    "arr = np.array([[ 0, 10, 20],\n",
    "                [20, 30, 40]])\n",
    "np.savetxt('arr.txt', arr)"
   ]
  },
  {
   "cell_type": "code",
   "execution_count": 51,
   "id": "48aec89f",
   "metadata": {},
   "outputs": [
    {
     "data": {
      "text/plain": [
       "6"
      ]
     },
     "execution_count": 51,
     "metadata": {},
     "output_type": "execute_result"
    }
   ],
   "source": [
    "# 33. Write a NumPy program to find the memory size of a NumPy array.\n",
    "arr.size"
   ]
  },
  {
   "cell_type": "code",
   "execution_count": 52,
   "id": "a63f708a",
   "metadata": {},
   "outputs": [
    {
     "name": "stdout",
     "output_type": "stream",
     "text": [
      "48 bytes\n"
     ]
    }
   ],
   "source": [
    "memory_size = arr.itemsize * arr.size # in bytes\n",
    "print(memory_size, 'bytes')"
   ]
  },
  {
   "cell_type": "code",
   "execution_count": 53,
   "id": "9a378b5a",
   "metadata": {},
   "outputs": [
    {
     "data": {
      "text/plain": [
       "array([[0, 0],\n",
       "       [0, 0]])"
      ]
     },
     "execution_count": 53,
     "metadata": {},
     "output_type": "execute_result"
    }
   ],
   "source": [
    "# 34. Write a NumPy program to create an array of \n",
    "# ones and an array of zeros\n",
    "zeros = np.zeros((2, 2))\n",
    "zeros.astype(int)"
   ]
  },
  {
   "cell_type": "code",
   "execution_count": 54,
   "id": "43dd26a9",
   "metadata": {},
   "outputs": [
    {
     "data": {
      "text/plain": [
       "array([[1, 1, 1],\n",
       "       [1, 1, 1],\n",
       "       [1, 1, 1]])"
      ]
     },
     "execution_count": 54,
     "metadata": {},
     "output_type": "execute_result"
    }
   ],
   "source": [
    "ones = np.ones((3, 3))\n",
    "ones.astype(int)"
   ]
  },
  {
   "cell_type": "code",
   "execution_count": 55,
   "id": "38f71d10",
   "metadata": {},
   "outputs": [
    {
     "data": {
      "text/plain": [
       "array([1, 2, 3, 2, 4, 5, 1, 2, 3])"
      ]
     },
     "execution_count": 55,
     "metadata": {},
     "output_type": "execute_result"
    }
   ],
   "source": [
    "# 36. Write a NumPy program to create a contiguous flattened array.\n",
    "ini_array1 = np.array([[1, 2, 3], [2, 4, 5], [1, 2, 3]])\n",
    "flatten = ini_array1.flatten()\n",
    "flatten"
   ]
  },
  {
   "cell_type": "code",
   "execution_count": 56,
   "id": "2dc5916a",
   "metadata": {},
   "outputs": [
    {
     "name": "stdout",
     "output_type": "stream",
     "text": [
      "<class 'numpy.ndarray'>\n",
      "(2, 3)\n",
      "int32\n"
     ]
    }
   ],
   "source": [
    "# 37. Write a NumPy program to create a 2-dimensional array \n",
    "# of size 2 x 3 (composed of 4-byte integer elements), \n",
    "# also print the shape, type and data type of the array.\n",
    "\n",
    "x = np.array([[2, 4, 6], [6, 8, 10]], np.int32)\n",
    "print(type(x))\n",
    "print(x.shape)\n",
    "print(x.dtype)"
   ]
  },
  {
   "cell_type": "code",
   "execution_count": 57,
   "id": "2982f26b",
   "metadata": {},
   "outputs": [
    {
     "data": {
      "text/plain": [
       "array([[1, 2],\n",
       "       [3, 4],\n",
       "       [5, 6]])"
      ]
     },
     "execution_count": 57,
     "metadata": {},
     "output_type": "execute_result"
    }
   ],
   "source": [
    "# 38. Write a NumPy program to create a new shape to an \n",
    "# array without changing its data.\n",
    "x = np.array([1, 2, 3, 4, 5, 6])\n",
    "np.reshape(x, (3,2))"
   ]
  },
  {
   "cell_type": "code",
   "execution_count": 58,
   "id": "99b4a9de",
   "metadata": {},
   "outputs": [
    {
     "data": {
      "text/plain": [
       "array([[1, 2, 3],\n",
       "       [4, 5, 6]])"
      ]
     },
     "execution_count": 58,
     "metadata": {},
     "output_type": "execute_result"
    }
   ],
   "source": [
    "np.reshape(x, (2, 3))"
   ]
  },
  {
   "cell_type": "code",
   "execution_count": 59,
   "id": "2846c41d",
   "metadata": {},
   "outputs": [
    {
     "data": {
      "text/plain": [
       "array([[2, 2, 2, 2, 2],\n",
       "       [2, 2, 2, 2, 2],\n",
       "       [2, 2, 2, 2, 2]], dtype=uint64)"
      ]
     },
     "execution_count": 59,
     "metadata": {},
     "output_type": "execute_result"
    }
   ],
   "source": [
    "# 40.Write a NumPy program to create a new array of 3*5, filled with 2.\n",
    "x = np.full((3, 5), 2, dtype=np.uint)\n",
    "x"
   ]
  },
  {
   "cell_type": "code",
   "execution_count": 61,
   "id": "2c854ca8",
   "metadata": {},
   "outputs": [
    {
     "data": {
      "text/plain": [
       "array([10, 10, 10, 10])"
      ]
     },
     "execution_count": 61,
     "metadata": {},
     "output_type": "execute_result"
    }
   ],
   "source": [
    "# 41. Write a NumPy program to create an array of 10's \n",
    "# with the same shape and type of a given array.\n",
    "\n",
    "x = np.arange(4, dtype=np.int64)\n",
    "np.full_like(x, 10)"
   ]
  },
  {
   "cell_type": "code",
   "execution_count": 63,
   "id": "e48544d9",
   "metadata": {},
   "outputs": [
    {
     "data": {
      "text/plain": [
       "array([[1., 0., 0.],\n",
       "       [0., 1., 0.],\n",
       "       [0., 0., 1.]])"
      ]
     },
     "execution_count": 63,
     "metadata": {},
     "output_type": "execute_result"
    }
   ],
   "source": [
    "# 42. Write a NumPy program to create a 3-D array with ones on \n",
    "# a diagonal and zeros elsewhere.\n",
    "np.eye(3)"
   ]
  },
  {
   "cell_type": "code",
   "execution_count": null,
   "id": "eb137060",
   "metadata": {},
   "outputs": [],
   "source": [
    "# 43. Write a NumPy program to create a 2-D array whose \n",
    "# diagonal equals [4, 5, 6, 8] and 0's elsewhere."
   ]
  },
  {
   "cell_type": "code",
   "execution_count": null,
   "id": "932c8bd9",
   "metadata": {},
   "outputs": [],
   "source": []
  }
 ],
 "metadata": {
  "kernelspec": {
   "display_name": "Python 3 (ipykernel)",
   "language": "python",
   "name": "python3"
  },
  "language_info": {
   "codemirror_mode": {
    "name": "ipython",
    "version": 3
   },
   "file_extension": ".py",
   "mimetype": "text/x-python",
   "name": "python",
   "nbconvert_exporter": "python",
   "pygments_lexer": "ipython3",
   "version": "3.8.8"
  }
 },
 "nbformat": 4,
 "nbformat_minor": 5
}
