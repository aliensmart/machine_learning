{
 "cells": [
  {
   "cell_type": "code",
   "execution_count": 1,
   "id": "166e20f8",
   "metadata": {},
   "outputs": [
    {
     "name": "stdout",
     "output_type": "stream",
     "text": [
      "Object `square` not found.\n"
     ]
    }
   ],
   "source": [
    "square??"
   ]
  },
  {
   "cell_type": "code",
   "execution_count": 2,
   "id": "c325a4b5",
   "metadata": {
    "scrolled": true
   },
   "outputs": [
    {
     "name": "stdout",
     "output_type": "stream",
     "text": [
      "Help on built-in function len in module builtins:\n",
      "\n",
      "len(obj, /)\n",
      "    Return the number of items in a container.\n",
      "\n"
     ]
    }
   ],
   "source": [
    "help(len)"
   ]
  },
  {
   "cell_type": "code",
   "execution_count": 3,
   "id": "5cbf2e56",
   "metadata": {
    "scrolled": true
   },
   "outputs": [
    {
     "name": "stdout",
     "output_type": "stream",
     "text": [
      "Help on built-in function len in module builtins:\n",
      "\n",
      "len(obj, /)\n",
      "    Return the number of items in a container.\n",
      "\n"
     ]
    }
   ],
   "source": [
    "help(len)"
   ]
  },
  {
   "cell_type": "code",
   "execution_count": 7,
   "id": "73952872",
   "metadata": {},
   "outputs": [],
   "source": []
  },
  {
   "cell_type": "code",
   "execution_count": 8,
   "id": "0d193c88",
   "metadata": {},
   "outputs": [],
   "source": [
    "*warning?"
   ]
  },
  {
   "cell_type": "code",
   "execution_count": 10,
   "id": "a4567197",
   "metadata": {},
   "outputs": [
    {
     "ename": "SyntaxError",
     "evalue": "invalid syntax (734085129.py, line 1)",
     "output_type": "error",
     "traceback": [
      "\u001b[0;36m  File \u001b[0;32m\"/tmp/ipykernel_187075/734085129.py\"\u001b[0;36m, line \u001b[0;32m1\u001b[0m\n\u001b[0;31m    (reverse-i-search)`sq'\u001b[0m\n\u001b[0m                      ^\u001b[0m\n\u001b[0;31mSyntaxError\u001b[0m\u001b[0;31m:\u001b[0m invalid syntax\n"
     ]
    }
   ],
   "source": [
    "(reverse-i-search)`sq'\n"
   ]
  },
  {
   "cell_type": "code",
   "execution_count": 11,
   "id": "8b7d0d39",
   "metadata": {},
   "outputs": [],
   "source": [
    "def donothing(x):\n",
    "    return x\n"
   ]
  },
  {
   "cell_type": "code",
   "execution_count": 12,
   "id": "65bfd61e",
   "metadata": {},
   "outputs": [
    {
     "data": {
      "text/plain": [
       "3"
      ]
     },
     "execution_count": 12,
     "metadata": {},
     "output_type": "execute_result"
    }
   ],
   "source": [
    "donothing(3)"
   ]
  },
  {
   "cell_type": "code",
   "execution_count": 13,
   "id": "e6454526",
   "metadata": {},
   "outputs": [
    {
     "name": "stdout",
     "output_type": "stream",
     "text": [
      "223 µs ± 5.15 µs per loop (mean ± std. dev. of 7 runs, 1000 loops each)\n"
     ]
    }
   ],
   "source": [
    "%timeit L = [n**2 for n in range(1000)]"
   ]
  },
  {
   "cell_type": "code",
   "execution_count": 14,
   "id": "a382e3a2",
   "metadata": {},
   "outputs": [
    {
     "data": {
      "text/plain": [
       "6"
      ]
     },
     "execution_count": 14,
     "metadata": {},
     "output_type": "execute_result"
    }
   ],
   "source": [
    "Out[12]*2"
   ]
  },
  {
   "cell_type": "code",
   "execution_count": 15,
   "id": "b2e869ec",
   "metadata": {},
   "outputs": [
    {
     "ename": "NameError",
     "evalue": "name '_8' is not defined",
     "output_type": "error",
     "traceback": [
      "\u001b[0;31m---------------------------------------------------------------------------\u001b[0m",
      "\u001b[0;31mNameError\u001b[0m                                 Traceback (most recent call last)",
      "\u001b[0;32m/tmp/ipykernel_187075/241365309.py\u001b[0m in \u001b[0;36m<module>\u001b[0;34m\u001b[0m\n\u001b[0;32m----> 1\u001b[0;31m \u001b[0m_8\u001b[0m\u001b[0;34m\u001b[0m\u001b[0;34m\u001b[0m\u001b[0m\n\u001b[0m",
      "\u001b[0;31mNameError\u001b[0m: name '_8' is not defined"
     ]
    }
   ],
   "source": [
    "_8"
   ]
  },
  {
   "cell_type": "code",
   "execution_count": 16,
   "id": "b8dc0ef3",
   "metadata": {},
   "outputs": [
    {
     "name": "stdout",
     "output_type": "stream",
     "text": [
      "bin\t\t include      mkspecs\t   share\r\n",
      "compiler_compat  info\t      phrasebooks  shell\r\n",
      "condabin\t lib\t      pkgs\t   ssl\r\n",
      "conda-meta\t libexec      plugins\t   translations\r\n",
      "doc\t\t LICENSE.txt  qml\t   Untitled.ipynb\r\n",
      "envs\t\t licensing    resources    var\r\n",
      "etc\t\t man\t      sbin\t   x86_64-conda_cos6-linux-gnu\r\n"
     ]
    }
   ],
   "source": [
    "!ls"
   ]
  },
  {
   "cell_type": "code",
   "execution_count": 17,
   "id": "640368b3",
   "metadata": {},
   "outputs": [
    {
     "name": "stdout",
     "output_type": "stream",
     "text": [
      "/home/aliensmart/anaconda3\r\n"
     ]
    }
   ],
   "source": [
    "!pwd"
   ]
  },
  {
   "cell_type": "code",
   "execution_count": 18,
   "id": "c05c5ba8",
   "metadata": {},
   "outputs": [
    {
     "name": "stdout",
     "output_type": "stream",
     "text": [
      "/home/aliensmart\n"
     ]
    }
   ],
   "source": [
    "cd .."
   ]
  },
  {
   "cell_type": "code",
   "execution_count": 19,
   "id": "c8f23d39",
   "metadata": {},
   "outputs": [
    {
     "name": "stdout",
     "output_type": "stream",
     "text": [
      "'2021-06-15 08-58-01.mp4'\r\n",
      "'2021-07-01 09-05-17.mp4'\r\n",
      "'2021-07-05 13-03-27.mp4'\r\n",
      "'2021-10-11 10-40-27.mp4'\r\n",
      "'2021-11-23 09-57-11.mp4'\r\n",
      "'2021-11-24 06-35-49.mp4'\r\n",
      "'2022-01-10 09-12-09.mp4'\r\n",
      "'2022-01-10 11-31-53.mp4'\r\n",
      "'2022-01-12 10-28-11.mp4'\r\n",
      "'2022-01-31 09-56-22.mp4'\r\n",
      " anaconda3\r\n",
      " Android\r\n",
      " AndroidStudioProjects\r\n",
      " Desktop\r\n",
      " Documents\r\n",
      " Don_du_01\r\n",
      " Downloads\r\n",
      " Flutter_codes\r\n",
      " Javascript\r\n",
      " msfinstall\r\n",
      " Music\r\n",
      " PHP\r\n",
      " Pictures\r\n",
      " Public\r\n",
      " __pycache__\r\n",
      " Python\r\n",
      " react_apps\r\n",
      " snap\r\n",
      " Spryte_labs\r\n",
      " Templates\r\n",
      " tur.py\r\n",
      " Untitled.ipynb\r\n",
      " venv\r\n",
      " Videos\r\n",
      "'VirtualBox VMs'\r\n",
      " vmware\r\n",
      "'Windows 11 build 21996.1  x64  [TheWindowsForum.com]'\r\n",
      "'Windows 11 Pro 22468.1000 UNTOUCHED'\r\n",
      " winehq.key\r\n",
      " wordpress\r\n"
     ]
    }
   ],
   "source": [
    "!ls"
   ]
  },
  {
   "cell_type": "code",
   "execution_count": 20,
   "id": "27f3810f",
   "metadata": {},
   "outputs": [],
   "source": [
    "mkdir ml"
   ]
  },
  {
   "cell_type": "code",
   "execution_count": 21,
   "id": "a74d77ec",
   "metadata": {},
   "outputs": [
    {
     "name": "stdout",
     "output_type": "stream",
     "text": [
      "/home/aliensmart/ml\n"
     ]
    }
   ],
   "source": [
    "cd ml"
   ]
  },
  {
   "cell_type": "code",
   "execution_count": null,
   "id": "17770161",
   "metadata": {},
   "outputs": [],
   "source": []
  }
 ],
 "metadata": {
  "kernelspec": {
   "display_name": "Python 3 (ipykernel)",
   "language": "python",
   "name": "python3"
  },
  "language_info": {
   "codemirror_mode": {
    "name": "ipython",
    "version": 3
   },
   "file_extension": ".py",
   "mimetype": "text/x-python",
   "name": "python",
   "nbconvert_exporter": "python",
   "pygments_lexer": "ipython3",
   "version": "3.8.8"
  }
 },
 "nbformat": 4,
 "nbformat_minor": 5
}
